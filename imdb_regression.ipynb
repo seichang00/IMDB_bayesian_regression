{
 "cells": [
  {
   "cell_type": "markdown",
   "metadata": {},
   "source": [
    "## Bayesian Logistic Regression for IMDB 50K Dataset"
   ]
  },
  {
   "cell_type": "markdown",
   "metadata": {},
   "source": [
    "### Data Pre-Processing\n",
    "\n",
    "Removing rare/stop words, applying bag-of-words vector representation to words in review using tokenizers (tf-idf)"
   ]
  },
  {
   "cell_type": "code",
   "execution_count": 1,
   "metadata": {},
   "outputs": [
    {
     "data": {
      "text/html": [
       "<div>\n",
       "<style scoped>\n",
       "    .dataframe tbody tr th:only-of-type {\n",
       "        vertical-align: middle;\n",
       "    }\n",
       "\n",
       "    .dataframe tbody tr th {\n",
       "        vertical-align: top;\n",
       "    }\n",
       "\n",
       "    .dataframe thead th {\n",
       "        text-align: right;\n",
       "    }\n",
       "</style>\n",
       "<table border=\"1\" class=\"dataframe\">\n",
       "  <thead>\n",
       "    <tr style=\"text-align: right;\">\n",
       "      <th></th>\n",
       "      <th>review</th>\n",
       "      <th>sentiment</th>\n",
       "    </tr>\n",
       "  </thead>\n",
       "  <tbody>\n",
       "    <tr>\n",
       "      <th>0</th>\n",
       "      <td>One of the other reviewers has mentioned that ...</td>\n",
       "      <td>positive</td>\n",
       "    </tr>\n",
       "    <tr>\n",
       "      <th>1</th>\n",
       "      <td>A wonderful little production. &lt;br /&gt;&lt;br /&gt;The...</td>\n",
       "      <td>positive</td>\n",
       "    </tr>\n",
       "    <tr>\n",
       "      <th>2</th>\n",
       "      <td>I thought this was a wonderful way to spend ti...</td>\n",
       "      <td>positive</td>\n",
       "    </tr>\n",
       "  </tbody>\n",
       "</table>\n",
       "</div>"
      ],
      "text/plain": [
       "                                              review sentiment\n",
       "0  One of the other reviewers has mentioned that ...  positive\n",
       "1  A wonderful little production. <br /><br />The...  positive\n",
       "2  I thought this was a wonderful way to spend ti...  positive"
      ]
     },
     "execution_count": 1,
     "metadata": {},
     "output_type": "execute_result"
    }
   ],
   "source": [
    "import pandas as pd\n",
    "import numpy as np\n",
    "import nltk\n",
    "from sklearn.model_selection import train_test_split\n",
    "from sklearn.metrics import confusion_matrix, classification_report\n",
    "import matplotlib.pyplot as plt\n",
    "from bs4 import BeautifulSoup\n",
    "\n",
    "imdb = pd.read_csv(\"IMDB Dataset.csv\")\n",
    "imdb.head(3)"
   ]
  },
  {
   "cell_type": "code",
   "execution_count": 2,
   "metadata": {},
   "outputs": [
    {
     "data": {
      "text/html": [
       "<div>\n",
       "<style scoped>\n",
       "    .dataframe tbody tr th:only-of-type {\n",
       "        vertical-align: middle;\n",
       "    }\n",
       "\n",
       "    .dataframe tbody tr th {\n",
       "        vertical-align: top;\n",
       "    }\n",
       "\n",
       "    .dataframe thead th {\n",
       "        text-align: right;\n",
       "    }\n",
       "</style>\n",
       "<table border=\"1\" class=\"dataframe\">\n",
       "  <thead>\n",
       "    <tr style=\"text-align: right;\">\n",
       "      <th></th>\n",
       "      <th>review</th>\n",
       "      <th>sentiment</th>\n",
       "    </tr>\n",
       "  </thead>\n",
       "  <tbody>\n",
       "    <tr>\n",
       "      <th>count</th>\n",
       "      <td>50000</td>\n",
       "      <td>50000</td>\n",
       "    </tr>\n",
       "    <tr>\n",
       "      <th>unique</th>\n",
       "      <td>49582</td>\n",
       "      <td>2</td>\n",
       "    </tr>\n",
       "    <tr>\n",
       "      <th>top</th>\n",
       "      <td>Loved today's show!!! It was a variety and not...</td>\n",
       "      <td>positive</td>\n",
       "    </tr>\n",
       "    <tr>\n",
       "      <th>freq</th>\n",
       "      <td>5</td>\n",
       "      <td>25000</td>\n",
       "    </tr>\n",
       "  </tbody>\n",
       "</table>\n",
       "</div>"
      ],
      "text/plain": [
       "                                                   review sentiment\n",
       "count                                               50000     50000\n",
       "unique                                              49582         2\n",
       "top     Loved today's show!!! It was a variety and not...  positive\n",
       "freq                                                    5     25000"
      ]
     },
     "execution_count": 2,
     "metadata": {},
     "output_type": "execute_result"
    }
   ],
   "source": [
    "imdb.describe()"
   ]
  },
  {
   "cell_type": "markdown",
   "metadata": {},
   "source": [
    "#### Remove Stop Words and other Rare Words"
   ]
  },
  {
   "cell_type": "code",
   "execution_count": 3,
   "metadata": {},
   "outputs": [
    {
     "name": "stderr",
     "output_type": "stream",
     "text": [
      "/Users/seichang/miniconda3/lib/python3.9/site-packages/bs4/__init__.py:435: MarkupResemblesLocatorWarning: The input looks more like a filename than markup. You may want to open this file and pass the filehandle into Beautiful Soup.\n",
      "  warnings.warn(\n"
     ]
    },
    {
     "data": {
      "text/html": [
       "<div>\n",
       "<style scoped>\n",
       "    .dataframe tbody tr th:only-of-type {\n",
       "        vertical-align: middle;\n",
       "    }\n",
       "\n",
       "    .dataframe tbody tr th {\n",
       "        vertical-align: top;\n",
       "    }\n",
       "\n",
       "    .dataframe thead th {\n",
       "        text-align: right;\n",
       "    }\n",
       "</style>\n",
       "<table border=\"1\" class=\"dataframe\">\n",
       "  <thead>\n",
       "    <tr style=\"text-align: right;\">\n",
       "      <th></th>\n",
       "      <th>review</th>\n",
       "      <th>sentiment</th>\n",
       "    </tr>\n",
       "  </thead>\n",
       "  <tbody>\n",
       "    <tr>\n",
       "      <th>0</th>\n",
       "      <td>One of the other reviewers has mentioned that ...</td>\n",
       "      <td>positive</td>\n",
       "    </tr>\n",
       "    <tr>\n",
       "      <th>1</th>\n",
       "      <td>A wonderful little production. &lt;br /&gt;&lt;br /&gt;The...</td>\n",
       "      <td>positive</td>\n",
       "    </tr>\n",
       "    <tr>\n",
       "      <th>2</th>\n",
       "      <td>I thought this was a wonderful way to spend ti...</td>\n",
       "      <td>positive</td>\n",
       "    </tr>\n",
       "  </tbody>\n",
       "</table>\n",
       "</div>"
      ],
      "text/plain": [
       "                                              review sentiment\n",
       "0  One of the other reviewers has mentioned that ...  positive\n",
       "1  A wonderful little production. <br /><br />The...  positive\n",
       "2  I thought this was a wonderful way to spend ti...  positive"
      ]
     },
     "execution_count": 3,
     "metadata": {},
     "output_type": "execute_result"
    }
   ],
   "source": [
    "#list of stopwords from NLTK\n",
    "# stopword_list=nltk.corpus.stopwords.words('english')\n",
    "\n",
    "#remove HTML tags\n",
    "def strip_html(html_text: str):\n",
    "    return BeautifulSoup(html_text).get_text()\n",
    "\n",
    "#make sure to add more cleaning (remove punctuation, )\n",
    "def clean_review(review: str):\n",
    "    return strip_html(review)\n",
    "\n",
    "#clean each review in dataset\n",
    "imdb.review.apply(clean_review)\n",
    "\n",
    "#tags should be removed from the 2nd review\n",
    "imdb.head(3)"
   ]
  },
  {
   "cell_type": "markdown",
   "metadata": {},
   "source": [
    "#### Split training dataset\n",
    "\n",
    "80% training (40K), 20% test split (10K)"
   ]
  },
  {
   "cell_type": "code",
   "execution_count": 4,
   "metadata": {},
   "outputs": [
    {
     "name": "stdout",
     "output_type": "stream",
     "text": [
      "(40000,) (40000,)\n",
      "(10000,) (10000,)\n"
     ]
    }
   ],
   "source": [
    "X_train, X_test, y_train, y_test = train_test_split(imdb.review, imdb.sentiment, test_size=0.2, random_state=42)\n",
    "print(\"{} {}\\n{} {}\".format(\n",
    "    X_train.shape,\n",
    "    y_train.shape,\n",
    "    X_test.shape,\n",
    "    y_test.shape))"
   ]
  },
  {
   "cell_type": "markdown",
   "metadata": {},
   "source": [
    "#### Term Frequency-Inverse Document Frequency (TF-IDF)\n",
    "\n",
    "Provides additional information on how important the word is for statistical analysis\n",
    "\n",
    "TF-IDF = TF*IDF\n",
    "- TF = (# occurrences of term `t` in review)/total # words in review). Measures how frequently `t` appears in the review \n",
    "- IDF = log_((# documents)/(# documents with term `t`)). Measures how important `t` is (if more frequent among documents, less important)"
   ]
  },
  {
   "cell_type": "code",
   "execution_count": 5,
   "metadata": {},
   "outputs": [
    {
     "name": "stdout",
     "output_type": "stream",
     "text": [
      "(40000, 93003)\n",
      "(10000, 93003)\n"
     ]
    }
   ],
   "source": [
    "from sklearn.feature_extraction.text import TfidfVectorizer\n",
    "\n",
    "#initialize TF-IDF Vectorizer (no l1/l2 normalization)\n",
    "tf_idf = TfidfVectorizer(norm=None, ngram_range=(1,1))\n",
    "\n",
    "#fit vocabulary on training dataset and transform\n",
    "#NOTE: fit_transform equivalent to using fit() then transform()\n",
    "X_train = tf_idf.fit_transform(X_train)\n",
    "\n",
    "#use vocabulary to transform test dataset\n",
    "X_test = tf_idf.transform(X_test)\n",
    "\n",
    "print(X_train.shape)\n",
    "print(X_test.shape)"
   ]
  },
  {
   "cell_type": "code",
   "execution_count": 6,
   "metadata": {},
   "outputs": [],
   "source": [
    "from sklearn.preprocessing import LabelBinarizer\n",
    "\n",
    "#vectorize dependent binary variable y\n",
    "lb=LabelBinarizer()\n",
    "\n",
    "#if positive, output = 1\n",
    "y_train = lb.fit_transform(y_train)\n",
    "y_test = lb.transform(y_test)"
   ]
  },
  {
   "cell_type": "markdown",
   "metadata": {},
   "source": [
    "### Stochastic MAP Estimation\n",
    "\n",
    "Performs stochastic gradient ascent by taking a random sample from the training dataset per iteration"
   ]
  },
  {
   "cell_type": "code",
   "execution_count": 102,
   "metadata": {},
   "outputs": [],
   "source": [
    "from numpy.random import randint, sample\n",
    "from scipy.sparse import csr, random\n",
    "from scipy.special import expit\n",
    "from sklearn.utils.fixes import scipy\n",
    "from scipy.sparse import csr_matrix\n",
    "\n",
    "def stochastic_regression_map(lamb: float, X: csr_matrix, y: np.ndarray, l_rate: float, batch_size: int, max_iters: int):\n",
    "    \n",
    "    converged = False\n",
    "\n",
    "    #extract dimensions of X \n",
    "    num_samples, num_features = X.shape #[N x P]\n",
    "\n",
    "    #initialize beta as 0 coefficients for features\n",
    "    beta = np.zeros((num_features, 1))\n",
    "\n",
    "    #use max_iters to control number of gradient steps\n",
    "    num_iters = 0\n",
    "\n",
    "    #array to keep track and plot losses during SGD training\n",
    "    sgd_losses = []\n",
    "\n",
    "    while (not converged) and (num_iters < max_iters):\n",
    "        #fetch one random sample of data -> turn to minibatch\n",
    "        mini_grads = []\n",
    "        mini_obj = []\n",
    "\n",
    "        # for batch in range(batch_size):\n",
    "        sample_idx = randint(0, num_samples)\n",
    "        y_sample = y[sample_idx].item() #[1 x 1]\n",
    "        X_sample = X[sample_idx].toarray() #[1 x P]\n",
    "\n",
    "        #calculate predicted expectation -> logistic_fn(beta * x_i)\n",
    "        linear = np.matmul(X_sample, beta).item()\n",
    "        y_pred = expit(linear)\n",
    "\n",
    "        #calculate objective fn to store in sgd_losses\n",
    "        obj = y_sample*np.log(y_pred) + (1 - y_sample)*np.log(1 - y_pred)\n",
    "\n",
    "        #calculate gradient (regularization + grad scaled up by num_samples)\n",
    "        grad = np.transpose(lamb*beta) + num_samples*(float(y_sample) - y_pred)*X_sample\n",
    "\n",
    "        #perform gradient step\n",
    "        beta = beta - l_rate*np.transpose(grad)\n",
    "        num_iters += 1\n",
    "        sgd_losses.append(-obj)\n",
    "        \n",
    "    \n",
    "    #gradient ascent finished, return coefficient\n",
    "    return (beta, sgd_losses)"
   ]
  },
  {
   "cell_type": "code",
   "execution_count": 103,
   "metadata": {},
   "outputs": [
    {
     "name": "stdout",
     "output_type": "stream",
     "text": [
      "[0.6931471805599453, nan, nan, nan, inf, 560.8236093987434]\n"
     ]
    },
    {
     "name": "stderr",
     "output_type": "stream",
     "text": [
      "<ipython-input-102-03fbda04af25>:38: RuntimeWarning: divide by zero encountered in log\n",
      "  obj = y_sample*np.log(y_pred) + (1 - y_sample)*np.log(1 - y_pred)\n",
      "<ipython-input-102-03fbda04af25>:38: RuntimeWarning: invalid value encountered in double_scalars\n",
      "  obj = y_sample*np.log(y_pred) + (1 - y_sample)*np.log(1 - y_pred)\n"
     ]
    }
   ],
   "source": [
    "#perform stochastic gradient ascent\n",
    "\n",
    "beta, sgd_losses = stochastic_regression_map(\n",
    "    lamb=0.1, \n",
    "    X=X_train, \n",
    "    y=y_train, \n",
    "    l_rate=0.0001, \n",
    "    batch_size=1,\n",
    "    max_iters=6)\n",
    "\n",
    "print(sgd_losses)"
   ]
  },
  {
   "cell_type": "code",
   "execution_count": 9,
   "metadata": {},
   "outputs": [
    {
     "data": {
      "text/plain": [
       "array([0.01, 0.01, 0.01, 0.01, 0.01])"
      ]
     },
     "execution_count": 9,
     "metadata": {},
     "output_type": "execute_result"
    }
   ],
   "source": [
    "np.zeros(5) + 0.01*np.ones(5)"
   ]
  }
 ],
 "metadata": {
  "kernelspec": {
   "display_name": "Python 3.9.12 ('base')",
   "language": "python",
   "name": "python3"
  },
  "language_info": {
   "codemirror_mode": {
    "name": "ipython",
    "version": 3
   },
   "file_extension": ".py",
   "mimetype": "text/x-python",
   "name": "python",
   "nbconvert_exporter": "python",
   "pygments_lexer": "ipython3",
   "version": "3.9.12"
  },
  "orig_nbformat": 4,
  "vscode": {
   "interpreter": {
    "hash": "51dc9f1ff6e0157435cdd11566ea2ea155b14fc128ee776f50901b81d69a36e0"
   }
  }
 },
 "nbformat": 4,
 "nbformat_minor": 2
}
